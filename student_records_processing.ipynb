{
 "cells": [
  {
   "cell_type": "code",
   "execution_count": null,
   "id": "f694e336",
   "metadata": {},
   "outputs": [],
   "source": [
    "import pandas as pd\n",
    "import os\n",
    "import glob\n",
    "  \n",
    "  \n",
    "# use glob to get all the csv files \n",
    "# in the folder\n",
    "path = os.getcwd()\n",
    "# be careful about hidden files\n",
    "xlsx_files = glob.glob(os.path.join(path, \"*.xlsx\"))\n",
    "xlsx_files"
   ]
  },
  {
   "cell_type": "code",
   "execution_count": null,
   "id": "14c79adc",
   "metadata": {},
   "outputs": [],
   "source": [
    "\"\"\"\n",
    "import re\n",
    "\n",
    "for f in xlsx_files:\n",
    "      \n",
    "    # read the csv file\n",
    "    df = pd.read_excel(f)\n",
    "    print(df)\n",
    "\n",
    "text1 = \"/Users/toru/Downloads/DA_DS_UGcourses/2022_A_DS1010.xlsx\"\n",
    "temp0 = text1.split('/')[-1]\n",
    "print(temp0)\n",
    "period = temp0[0:6]\n",
    "coursename = temp0[7:13]\n",
    "\n",
    "print(temp1)\n",
    "df = pd.read_excel(xlsx_files[0])\n",
    "df = df[df['Program of Study'].str.contains(\"Data Science \\(BS\\)\", na = False)]\n",
    "df = df[['Student', 'Course Section', 'Student Registration Academic Period']]\n",
    "df['Course Section'] = coursename\n",
    "df['Student Registration Academic Period'] = period\n",
    "#df = df[df['Course Section'].str.replace(regex=['DS2010*'],value='DS2010')]\n",
    "df\n",
    "\"\"\""
   ]
  },
  {
   "cell_type": "code",
   "execution_count": null,
   "id": "16fbda1f",
   "metadata": {},
   "outputs": [],
   "source": [
    "df_list = []\n",
    "for f in xlsx_files:\n",
    "    df = pd.read_excel(f)\n",
    "    temp = f.split('/')[-1]\n",
    "    period = temp[0:6]\n",
    "    coursename = temp[7:13]\n",
    "    df = df[df['Program of Study'].str.contains(\"Data Science \\(BS\\)\", na = False)]\n",
    "    df = df[['Student', 'Course Section', 'Student Registration Academic Period']]\n",
    "    df['Course Section'] = coursename\n",
    "    df['Student Registration Academic Period'] = period\n",
    "    df_list.append(df)\n",
    "\n",
    "df_concatenated_temp = pd.concat(df_list) \n",
    "df_concatenated_temp = df_concatenated_temp.sort_values(by=['Student'])\n",
    "#df_concatenated_temp.to_excel(\"temp.xlsx\")\n"
   ]
  },
  {
   "cell_type": "code",
   "execution_count": null,
   "id": "1a023117",
   "metadata": {},
   "outputs": [],
   "source": [
    "names = set(df_concatenated_temp['Student'])\n",
    "print(len(names))"
   ]
  },
  {
   "cell_type": "code",
   "execution_count": null,
   "id": "0a3f9dbd",
   "metadata": {},
   "outputs": [],
   "source": [
    "student_records = {}\n",
    "for name in names:\n",
    "    temp = dict(\n",
    "        name = str(name),\n",
    "        DS1010 = \"NA\",\n",
    "        DS2010 = \"NA\",\n",
    "        DS3010 = \"NA\"\n",
    "    )\n",
    "    student_records[name] = temp       \n",
    "            \n",
    "\n",
    "for key,val in student_records.items():\n",
    "    print(key)\n",
    "    print(val)\n",
    "    print(\"\\n\\n\")"
   ]
  },
  {
   "cell_type": "code",
   "execution_count": null,
   "id": "71aebabc",
   "metadata": {},
   "outputs": [],
   "source": [
    "\n",
    "\"\"\"\n",
    "for row in df_concatenated_temp.values:\n",
    "    print(row[0])\n",
    "    print(row[1])\n",
    "    print(row[2])\n",
    "    \n",
    "        \n",
    "    \n",
    "    print(student_records)\n",
    "\"\"\""
   ]
  },
  {
   "cell_type": "code",
   "execution_count": null,
   "id": "155656e3",
   "metadata": {},
   "outputs": [],
   "source": [
    "concatenated_list = df_concatenated_temp.values"
   ]
  },
  {
   "cell_type": "code",
   "execution_count": null,
   "id": "503afe02",
   "metadata": {},
   "outputs": [],
   "source": [
    "for row in concatenated_list:\n",
    "    student_records[str(row[0])][str(row[1])] = str(row[2])\n",
    "\n",
    "for key,val in student_records.items():\n",
    "    print(key)\n",
    "    print(val)\n",
    "    print(\"\\n\\n\")\n",
    "\n",
    "for val in student_records.values():\n",
    "    print(val.values())"
   ]
  },
  {
   "cell_type": "code",
   "execution_count": null,
   "id": "c099d041",
   "metadata": {},
   "outputs": [],
   "source": [
    "cols = ['name', 'DS1010', 'DS2010', 'DS3010']\n",
    "lst = []\n",
    "for val in student_records.values():\n",
    "    lst.append(val.values())\n",
    "df_transformed = pd.DataFrame(lst, columns=cols)\n",
    "df_transformed.to_csv(\"Student Records.csv\")"
   ]
  }
 ],
 "metadata": {
  "kernelspec": {
   "display_name": "Python 3 (ipykernel)",
   "language": "python",
   "name": "python3"
  },
  "language_info": {
   "codemirror_mode": {
    "name": "ipython",
    "version": 3
   },
   "file_extension": ".py",
   "mimetype": "text/x-python",
   "name": "python",
   "nbconvert_exporter": "python",
   "pygments_lexer": "ipython3",
   "version": "3.11.4"
  }
 },
 "nbformat": 4,
 "nbformat_minor": 5
}
